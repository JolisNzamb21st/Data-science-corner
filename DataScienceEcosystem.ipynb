{
 "cells": [
  {
   "cell_type": "markdown",
   "id": "068c8ebf-ef79-4b69-bdee-d236541da5e0",
   "metadata": {},
   "source": [
    "# Data Science Tools and Ecosystem"
   ]
  },
  {
   "cell_type": "markdown",
   "id": "2e2a7379-08c7-48fa-a625-90789017e4ca",
   "metadata": {},
   "source": [
    "In this notebook, Data Science Tools and Ecosystems are summarized.In the rapidly evolving field of data science, a diverse array of tools and technologies are available to help analysts and data scientists extract meaningful insights from complex datasets. This notebook explores the foundational tools and ecosystem components that play a crucial role in data science workflows. From programming languages and libraries to integrated development environments and visualization tools, we will delve into the key resources that enable effective data manipulation, analysis, and visualization. Whether you are a beginner looking to familiarize yourself with essential tools or an experienced practitioner seeking to update your toolkit, this exploration aims to provide a comprehensive overview of the technological landscape that supports modern data science."
   ]
  },
  {
   "cell_type": "markdown",
   "id": "98fd49e6-9774-4539-af36-9d11737ba10f",
   "metadata": {},
   "source": [
    "**In this course,you will learn:**\n",
    "\n",
    "**Objectives:**\n"
   ]
  },
  {
   "cell_type": "markdown",
   "id": "1d679fef-dce8-4fd9-b24d-22ea35a3cbaf",
   "metadata": {},
   "source": [
    "- Popular languages for Data Scientists\n",
    "- Data Science Tools\n",
    "- Basiscs of Python"
   ]
  },
  {
   "cell_type": "markdown",
   "id": "d37e14df-a33d-4bb6-85e2-944f90e1beea",
   "metadata": {},
   "source": [
    "**Some of the popular languages that Data Scientists use are:**"
   ]
  },
  {
   "cell_type": "markdown",
   "id": "6ac8600c-6f73-43e1-bd10-bf6dc666b5fb",
   "metadata": {},
   "source": [
    "1. Python\n",
    "2. R\n",
    "3. SQL\n",
    "4. Julia\n",
    "5. \n",
    "6. Java\n",
    "7. JavaScript\n"
   ]
  },
  {
   "cell_type": "markdown",
   "id": "9b42a4b5-21e7-4ab3-aab1-d2d7f71271bd",
   "metadata": {},
   "source": [
    "**Libraries that are commonly utilized by Data Scientists include:**\n",
    "\n",
    "1. Pandas\n",
    "2. NumPy\n",
    "3. Matplotlib\n",
    "4. Seaborn\n",
    "5. Scikit-learn\n",
    "6. Keras \n",
    "7. TensorFlow \n",
    "8. Apache Spark\n"
   ]
  },
  {
   "cell_type": "markdown",
   "id": "969f1bf6-5a8c-4e0c-80f1-894cdd0626e7",
   "metadata": {},
   "source": [
    "|*Data Science Tools*|\n",
    "|------------------|\n",
    "|**In this table you are introduced to different tools for data science which are classified into categories:**|\n",
    "|Data Management Tools that include Relational Databases, NoSQL Databases, and Big Data platforms|\n",
    "|Data Integration and Transformation Tools which include Apache Airflow and Apache Kafka.|\n",
    "|Data Visualization Tools which include commercial offerings  such as Cognos Analytics, Tableau and PowerBI  and can be used for building dynamic and interactive dashboards.|\n",
    "|Code Asset Management Tools: Here,Git can be mentioned as an essential code asset management tool. Its features make it an ideal tool for collaborative software development, including version control, issue tracking, and project management.|\n",
    "|Development Environments: Popular development environments for Data Science include Jupyter Notebooks and RStudio.|\n",
    "\n"
   ]
  },
  {
   "cell_type": "markdown",
   "id": "0d543682-36ed-487a-902a-8c91b4263f85",
   "metadata": {},
   "source": [
    "**Introduction of Python as a powerful programming language for data science**"
   ]
  },
  {
   "cell_type": "raw",
   "id": "e10534e4-34e8-4d7f-b356-5c5f061fdcec",
   "metadata": {},
   "source": [
    "Python has emerged as one of the most versatile and powerful programming languages, particularly in the field of data science. Its simplicity and readability make it an ideal choice for both beginners and experienced programmers. Python's extensive libraries and frameworks, such as NumPy, Pandas, and Scikit-learn, provide robust tools for data manipulation, analysis, and machine learning. Additionally, Python's active community and continuous development ensure that it stays at the forefront of technological advancements, making it an indispensable asset for data scientists aiming to derive meaningful insights from complex datasets.\n",
    "\n",
    "In this paragraph,we only cover how to perform simple operations with python:"
   ]
  },
  {
   "cell_type": "markdown",
   "id": "93afd64f-fec4-41b1-8297-888d9fc57d78",
   "metadata": {},
   "source": [
    "### Below are a few examples of evaluating arithmetic expressions in Python."
   ]
  },
  {
   "cell_type": "code",
   "execution_count": 4,
   "id": "71054d79-e2ff-4fe1-9114-a3e466560ec7",
   "metadata": {},
   "outputs": [
    {
     "data": {
      "text/plain": [
       "17"
      ]
     },
     "execution_count": 4,
     "metadata": {},
     "output_type": "execute_result"
    }
   ],
   "source": [
    "#This simple arithmetic expression mutiplies then adds integers\n",
    "(3*4)+5"
   ]
  },
  {
   "cell_type": "code",
   "execution_count": 6,
   "id": "35356237-e6e2-43a2-9d2c-26ea0acbbdf0",
   "metadata": {},
   "outputs": [
    {
     "data": {
      "text/plain": [
       "3.3333333333333335"
      ]
     },
     "execution_count": 6,
     "metadata": {},
     "output_type": "execute_result"
    }
   ],
   "source": [
    "#This will convert 200 minutes to hours by diving by 60\n",
    "(200/60)"
   ]
  },
  {
   "cell_type": "markdown",
   "id": "73083654-2df6-4a32-aee7-458a47b9a807",
   "metadata": {},
   "source": [
    "# Author"
   ]
  },
  {
   "cell_type": "raw",
   "id": "909b7b69-815c-4814-bc96-bd7298b11247",
   "metadata": {},
   "source": [
    "NZAMBIMANA JOLIS"
   ]
  },
  {
   "cell_type": "code",
   "execution_count": null,
   "id": "c387b3f8-3e1d-4293-9df0-a49eed1108fd",
   "metadata": {},
   "outputs": [],
   "source": []
  }
 ],
 "metadata": {
  "kernelspec": {
   "display_name": "Python 3 (ipykernel)",
   "language": "python",
   "name": "python3"
  },
  "language_info": {
   "codemirror_mode": {
    "name": "ipython",
    "version": 3
   },
   "file_extension": ".py",
   "mimetype": "text/x-python",
   "name": "python",
   "nbconvert_exporter": "python",
   "pygments_lexer": "ipython3",
   "version": "3.12.4"
  }
 },
 "nbformat": 4,
 "nbformat_minor": 5
}
